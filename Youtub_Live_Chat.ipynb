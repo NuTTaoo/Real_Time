{
  "cells": [
    {
      "cell_type": "markdown",
      "metadata": {
        "id": "view-in-github",
        "colab_type": "text"
      },
      "source": [
        "<a href=\"https://colab.research.google.com/github/NuTTaoo/Real_Time/blob/main/Youtub_Live_Chat.ipynb\" target=\"_parent\"><img src=\"https://colab.research.google.com/assets/colab-badge.svg\" alt=\"Open In Colab\"/></a>"
      ]
    },
    {
      "cell_type": "code",
      "execution_count": null,
      "metadata": {
        "colab": {
          "base_uri": "https://localhost:8080/"
        },
        "id": "btdzZKvUf8Rp",
        "outputId": "1193569b-c643-4b1b-be79-36a9b265f650"
      },
      "outputs": [
        {
          "output_type": "stream",
          "name": "stdout",
          "text": [
            "Collecting pytchat\n",
            "  Downloading pytchat-0.5.5-py3-none-any.whl.metadata (4.7 kB)\n",
            "Requirement already satisfied: httpx[http2] in /usr/local/lib/python3.11/dist-packages (from pytchat) (0.28.1)\n",
            "Requirement already satisfied: anyio in /usr/local/lib/python3.11/dist-packages (from httpx[http2]->pytchat) (3.7.1)\n",
            "Requirement already satisfied: certifi in /usr/local/lib/python3.11/dist-packages (from httpx[http2]->pytchat) (2024.12.14)\n",
            "Requirement already satisfied: httpcore==1.* in /usr/local/lib/python3.11/dist-packages (from httpx[http2]->pytchat) (1.0.7)\n",
            "Requirement already satisfied: idna in /usr/local/lib/python3.11/dist-packages (from httpx[http2]->pytchat) (3.10)\n",
            "Collecting h2<5,>=3 (from httpx[http2]->pytchat)\n",
            "  Downloading h2-4.1.0-py3-none-any.whl.metadata (3.6 kB)\n",
            "Requirement already satisfied: h11<0.15,>=0.13 in /usr/local/lib/python3.11/dist-packages (from httpcore==1.*->httpx[http2]->pytchat) (0.14.0)\n",
            "Collecting hyperframe<7,>=6.0 (from h2<5,>=3->httpx[http2]->pytchat)\n",
            "  Downloading hyperframe-6.1.0-py3-none-any.whl.metadata (4.3 kB)\n",
            "Collecting hpack<5,>=4.0 (from h2<5,>=3->httpx[http2]->pytchat)\n",
            "  Downloading hpack-4.1.0-py3-none-any.whl.metadata (4.6 kB)\n",
            "Requirement already satisfied: sniffio>=1.1 in /usr/local/lib/python3.11/dist-packages (from anyio->httpx[http2]->pytchat) (1.3.1)\n",
            "Downloading pytchat-0.5.5-py3-none-any.whl (69 kB)\n",
            "\u001b[2K   \u001b[90m━━━━━━━━━━━━━━━━━━━━━━━━━━━━━━━━━━━━━━━━\u001b[0m \u001b[32m69.5/69.5 kB\u001b[0m \u001b[31m1.8 MB/s\u001b[0m eta \u001b[36m0:00:00\u001b[0m\n",
            "\u001b[?25hDownloading h2-4.1.0-py3-none-any.whl (57 kB)\n",
            "\u001b[2K   \u001b[90m━━━━━━━━━━━━━━━━━━━━━━━━━━━━━━━━━━━━━━━━\u001b[0m \u001b[32m57.5/57.5 kB\u001b[0m \u001b[31m2.6 MB/s\u001b[0m eta \u001b[36m0:00:00\u001b[0m\n",
            "\u001b[?25hDownloading hpack-4.1.0-py3-none-any.whl (34 kB)\n",
            "Downloading hyperframe-6.1.0-py3-none-any.whl (13 kB)\n",
            "Installing collected packages: hyperframe, hpack, h2, pytchat\n",
            "Successfully installed h2-4.1.0 hpack-4.1.0 hyperframe-6.1.0 pytchat-0.5.5\n"
          ]
        }
      ],
      "source": [
        "pip install pytchat"
      ]
    },
    {
      "cell_type": "code",
      "source": [
        "pip install emoji"
      ],
      "metadata": {
        "id": "WQe_wy_kssU3"
      },
      "execution_count": null,
      "outputs": []
    },
    {
      "cell_type": "code",
      "execution_count": null,
      "metadata": {
        "id": "nhOp9BK1mKdl"
      },
      "outputs": [],
      "source": [
        "!pip install -q transformers"
      ]
    },
    {
      "cell_type": "code",
      "execution_count": null,
      "metadata": {
        "colab": {
          "base_uri": "https://localhost:8080/"
        },
        "id": "fEHoXvUAmlZL",
        "outputId": "9abc507c-66a1-4450-b6b7-eefd2da973f8"
      },
      "outputs": [
        {
          "output_type": "stream",
          "name": "stderr",
          "text": [
            "Device set to use cpu\n"
          ]
        }
      ],
      "source": [
        "from transformers import pipeline\n",
        "sp = pipeline(model=\"poom-sci/WangchanBERTa-finetuned-sentiment\")"
      ]
    },
    {
      "cell_type": "code",
      "execution_count": null,
      "metadata": {
        "colab": {
          "background_save": true,
          "base_uri": "https://localhost:8080/"
        },
        "id": "ErBBAR_xn74R",
        "outputId": "8730afe9-4049-4db6-ec90-23f2b45f4469"
      },
      "outputs": [
        {
          "name": "stdout",
          "output_type": "stream",
          "text": [
            "2025-01-21 12:33:59 [HookHuukGaming]- 📌ช่องทางการสมัคร Member นะคับ :https://www.youtube.com/channel/UClns...\n",
            "2025-01-21 12:37:53 [わんこJDS]- เนื้อเรื่องลุงจะกลายเป็น 3 มั้ย? มัน 10 กว่าชมเลยนะลุง...:_HHConfuse:\n",
            "2025-01-21 12:40:07 [N E W]- :hand-pink-waving: :hand-pink-waving: :hand-pink-waving:\n",
            "2025-01-21 12:41:12 [Jaiza]- :_HHHi: :_HHHi: :_HHHi:\n",
            "2025-01-21 12:43:11 [Azuma]- ครอบครัวก็มา งานก็เยอะ เหนื่อยเเทนลุง สู้ๆครับ\n",
            "2025-01-21 12:50:35 [ehetenandayo]- :_HHShocked: :_HHShocked:\n",
            "2025-01-21 12:57:54 [N E W]- ไหๆไอพี่\n",
            "2025-01-21 13:04:55 [Eastinn]- :_HHHi:\n",
            "2025-01-21 13:06:27 [Peerada Prommin]- :_HHHi: :_HHHi: :_HHHi:\n",
            "2025-01-21 13:16:20 [Day]- :hand-pink-waving: :hand-pink-waving:\n"
          ]
        },
        {
          "data": {
            "application/javascript": [
              "\n",
              "    async function download(id, filename, size) {\n",
              "      if (!google.colab.kernel.accessAllowed) {\n",
              "        return;\n",
              "      }\n",
              "      const div = document.createElement('div');\n",
              "      const label = document.createElement('label');\n",
              "      label.textContent = `Downloading \"${filename}\": `;\n",
              "      div.appendChild(label);\n",
              "      const progress = document.createElement('progress');\n",
              "      progress.max = size;\n",
              "      div.appendChild(progress);\n",
              "      document.body.appendChild(div);\n",
              "\n",
              "      const buffers = [];\n",
              "      let downloaded = 0;\n",
              "\n",
              "      const channel = await google.colab.kernel.comms.open(id);\n",
              "      // Send a message to notify the kernel that we're ready.\n",
              "      channel.send({})\n",
              "\n",
              "      for await (const message of channel.messages) {\n",
              "        // Send a message to notify the kernel that we're ready.\n",
              "        channel.send({})\n",
              "        if (message.buffers) {\n",
              "          for (const buffer of message.buffers) {\n",
              "            buffers.push(buffer);\n",
              "            downloaded += buffer.byteLength;\n",
              "            progress.value = downloaded;\n",
              "          }\n",
              "        }\n",
              "      }\n",
              "      const blob = new Blob(buffers, {type: 'application/binary'});\n",
              "      const a = document.createElement('a');\n",
              "      a.href = window.URL.createObjectURL(blob);\n",
              "      a.download = filename;\n",
              "      div.appendChild(a);\n",
              "      a.click();\n",
              "      div.remove();\n",
              "    }\n",
              "  "
            ],
            "text/plain": [
              "<IPython.core.display.Javascript object>"
            ]
          },
          "metadata": {},
          "output_type": "display_data"
        },
        {
          "data": {
            "application/javascript": [
              "download(\"download_7fc158b8-41ac-4943-b056-f6d396f62aeb\", \"data.csv\", 1000)"
            ],
            "text/plain": [
              "<IPython.core.display.Javascript object>"
            ]
          },
          "metadata": {},
          "output_type": "display_data"
        }
      ],
      "source": [
        "import pytchat\n",
        "import pandas as pd\n",
        "import emoji  # Add emoji library\n",
        "\n",
        "def clean_message(msg):\n",
        "    # Handle YouTube custom emotes that appear like :emoji_name:\n",
        "    return msg.replace(\"::\", \": :\")\n",
        "\n",
        "chat = pytchat.create(video_id=\"bqDC_N3xolU\")\n",
        "\n",
        "dList = []\n",
        "aList = []\n",
        "mList = []\n",
        "\n",
        "i = 0\n",
        "while chat.is_alive():\n",
        "    for c in chat.get().sync_items():\n",
        "        # Process message with emoji handling\n",
        "        message = clean_message(emoji.emojize(c.message))\n",
        "\n",
        "        print(f\"{c.datetime} [{c.author.name}]- {message}\")\n",
        "        dList.append(c.datetime)\n",
        "        aList.append(c.author.name)\n",
        "        mList.append(message)\n",
        "\n",
        "        i = i+1\n",
        "        if i == 10:\n",
        "            chat.terminate()\n",
        "            break\n",
        "\n",
        "data_dict = {'dateTime': dList, 'authorName': aList, 'Message': mList}\n",
        "\n",
        "df = pd.DataFrame(data_dict)\n",
        "df.head()\n",
        "\n",
        "# Save with proper emoji encoding\n",
        "df.to_csv(\"data.csv\", encoding=\"utf_8_sig\", index=False, quoting=1)\n",
        "\n",
        "from google.colab import files\n",
        "files.download(\"data.csv\")"
      ]
    }
  ],
  "metadata": {
    "colab": {
      "provenance": [],
      "authorship_tag": "ABX9TyNX2IWR2Y7IgozhW+tDEXCi",
      "include_colab_link": true
    },
    "kernelspec": {
      "display_name": "Python 3",
      "name": "python3"
    },
    "language_info": {
      "name": "python"
    }
  },
  "nbformat": 4,
  "nbformat_minor": 0
}